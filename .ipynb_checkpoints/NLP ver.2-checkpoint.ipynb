{
 "cells": [
  {
   "cell_type": "code",
   "execution_count": 1,
   "id": "c637b09b",
   "metadata": {},
   "outputs": [],
   "source": [
    "import pandas as pd\n",
    "import numpy as np\n",
    "import seaborn as sns"
   ]
  },
  {
   "cell_type": "markdown",
   "id": "6ee04f7a",
   "metadata": {},
   "source": [
    "Data"
   ]
  },
  {
   "cell_type": "code",
   "execution_count": 2,
   "id": "42b9a1a0",
   "metadata": {},
   "outputs": [],
   "source": [
    "#df1 = pd.read_csv(\"C:/Users/Fernanda/Desktop/Udemy/NLP_Playground/Kaggle_Data/abusive.csv\")\n",
    "df1 = pd.read_csv(\"C:/Users/Fernanda/Desktop/Udemy/NLP_Playground/Kaggle_Data/Tweet Bapak Jokowi - Tweet Bapak Jokowi.csv\")\n",
    "df2 = pd.read_csv(\"C:/Users/Fernanda/Desktop/Udemy/NLP_Playground/Kaggle_Data/Indonesian Sentiment Twitter Dataset Labeled.csv\",error_bad_lines=False, sep='\\t')\n",
    "stop = pd.read_csv(\"C:/Users/Fernanda/Desktop/Udemy/NLP_Playground/Kaggle_Data/stopwordbahasa.csv\", header = None)"
   ]
  },
  {
   "cell_type": "markdown",
   "id": "df142d69",
   "metadata": {},
   "source": [
    "Clean and Transform"
   ]
  },
  {
   "cell_type": "code",
   "execution_count": 3,
   "id": "3c510704",
   "metadata": {},
   "outputs": [],
   "source": [
    "def chg_lab(text):\n",
    "    sent = None\n",
    "    if text == -1:\n",
    "        sent = \"negatif\"\n",
    "    elif text == 0:\n",
    "        sent = \"netral\"\n",
    "    elif text == 1:\n",
    "        sent = \"positif\"\n",
    "    #print(sent)\n",
    "    return sent\n",
    "\n",
    "import re\n",
    "\n",
    "def clean_label(text):\n",
    "    sent = None\n",
    "    #print(type(text))\n",
    "    if type(text) == str:\n",
    "        text = text.lower()\n",
    "        if text.startswith(\"p\"):\n",
    "            sent = \"positif\"\n",
    "        elif text.startswith(\"net\"):\n",
    "            sent = \"netral\"\n",
    "        elif text.startswith(\"negatif\"):\n",
    "            sent = \"negatif\"\n",
    "    if type(text) != str:\n",
    "        sent = \"negatif\"\n",
    "    return sent\n",
    "\n",
    "\n",
    "def remove_special(text):\n",
    "    pattern = r'@\\w+\\b'\n",
    "    processed_text = re.sub(pattern, '', text, 10)\n",
    "    return processed_text"
   ]
  },
  {
   "cell_type": "code",
   "execution_count": 4,
   "id": "b0d7d445",
   "metadata": {},
   "outputs": [],
   "source": [
    "df1 = df1.drop(labels = ['Unnamed: 0'], axis = 1)\n",
    "df1 = df1.rename(columns = {\"Label\":\"label\"})\n",
    "df1[\"label\"] = df1.label.apply(lambda x: clean_label(x))\n",
    "df1[\"text\"] = df1.text.apply(lambda y: remove_special(y))\n",
    "\n",
    "\n",
    "df2[\"label\"] = df2.sentimen.apply(lambda x: chg_lab(x))\n",
    "df2 = df2.rename(columns = {\"Tweet\":\"text\"})\n",
    "df2 = df2.drop(columns = \"sentimen\")\n",
    "\n",
    "stop = np.transpose(stop.values).tolist()"
   ]
  },
  {
   "cell_type": "code",
   "execution_count": 5,
   "id": "0472b52a",
   "metadata": {},
   "outputs": [
    {
     "data": {
      "text/html": [
       "<div>\n",
       "<style scoped>\n",
       "    .dataframe tbody tr th:only-of-type {\n",
       "        vertical-align: middle;\n",
       "    }\n",
       "\n",
       "    .dataframe tbody tr th {\n",
       "        vertical-align: top;\n",
       "    }\n",
       "\n",
       "    .dataframe thead th {\n",
       "        text-align: right;\n",
       "    }\n",
       "</style>\n",
       "<table border=\"1\" class=\"dataframe\">\n",
       "  <thead>\n",
       "    <tr style=\"text-align: right;\">\n",
       "      <th></th>\n",
       "      <th>text</th>\n",
       "      <th>label</th>\n",
       "    </tr>\n",
       "  </thead>\n",
       "  <tbody>\n",
       "    <tr>\n",
       "      <th>0</th>\n",
       "      <td>rt :    negara demokrasi itu hukumnya hrs tega...</td>\n",
       "      <td>positif</td>\n",
       "    </tr>\n",
       "    <tr>\n",
       "      <th>1</th>\n",
       "      <td>harga2 pd naik gaji aparat negara gk naik2,yg...</td>\n",
       "      <td>negatif</td>\n",
       "    </tr>\n",
       "    <tr>\n",
       "      <th>2</th>\n",
       "      <td>xx : kalian coba mengusir yang mau membersihka...</td>\n",
       "      <td>negatif</td>\n",
       "    </tr>\n",
       "    <tr>\n",
       "      <th>3</th>\n",
       "      <td>haturnuhun bapak presiden  telah berkenan kun...</td>\n",
       "      <td>netral</td>\n",
       "    </tr>\n",
       "    <tr>\n",
       "      <th>4</th>\n",
       "      <td>bahkan bisa jadi titisannya</td>\n",
       "      <td>netral</td>\n",
       "    </tr>\n",
       "    <tr>\n",
       "      <th>...</th>\n",
       "      <td>...</td>\n",
       "      <td>...</td>\n",
       "    </tr>\n",
       "    <tr>\n",
       "      <th>1001</th>\n",
       "      <td>Memang hebat orang pilihan pak  ini, lulusan U...</td>\n",
       "      <td>positif</td>\n",
       "    </tr>\n",
       "    <tr>\n",
       "      <th>1002</th>\n",
       "      <td>Kunjungan Kehormatan Presiden  dan Ibu Iriana ...</td>\n",
       "      <td>positif</td>\n",
       "    </tr>\n",
       "    <tr>\n",
       "      <th>1003</th>\n",
       "      <td>Berbagai upaya dilakukan Indonesia untuk melak...</td>\n",
       "      <td>positif</td>\n",
       "    </tr>\n",
       "    <tr>\n",
       "      <th>1004</th>\n",
       "      <td>Sebagai tindak lanjut perintah Presiden  sekal...</td>\n",
       "      <td>positif</td>\n",
       "    </tr>\n",
       "    <tr>\n",
       "      <th>1005</th>\n",
       "      <td>Dengan memanfaat teknologi, jangan heran kalau...</td>\n",
       "      <td>positif</td>\n",
       "    </tr>\n",
       "  </tbody>\n",
       "</table>\n",
       "<p>1006 rows × 2 columns</p>\n",
       "</div>"
      ],
      "text/plain": [
       "                                                   text    label\n",
       "0     rt :    negara demokrasi itu hukumnya hrs tega...  positif\n",
       "1      harga2 pd naik gaji aparat negara gk naik2,yg...  negatif\n",
       "2     xx : kalian coba mengusir yang mau membersihka...  negatif\n",
       "3      haturnuhun bapak presiden  telah berkenan kun...   netral\n",
       "4                           bahkan bisa jadi titisannya   netral\n",
       "...                                                 ...      ...\n",
       "1001  Memang hebat orang pilihan pak  ini, lulusan U...  positif\n",
       "1002  Kunjungan Kehormatan Presiden  dan Ibu Iriana ...  positif\n",
       "1003  Berbagai upaya dilakukan Indonesia untuk melak...  positif\n",
       "1004  Sebagai tindak lanjut perintah Presiden  sekal...  positif\n",
       "1005  Dengan memanfaat teknologi, jangan heran kalau...  positif\n",
       "\n",
       "[1006 rows x 2 columns]"
      ]
     },
     "execution_count": 5,
     "metadata": {},
     "output_type": "execute_result"
    }
   ],
   "source": [
    "df1"
   ]
  },
  {
   "cell_type": "code",
   "execution_count": 6,
   "id": "1c7e367e",
   "metadata": {},
   "outputs": [
    {
     "data": {
      "text/html": [
       "<div>\n",
       "<style scoped>\n",
       "    .dataframe tbody tr th:only-of-type {\n",
       "        vertical-align: middle;\n",
       "    }\n",
       "\n",
       "    .dataframe tbody tr th {\n",
       "        vertical-align: top;\n",
       "    }\n",
       "\n",
       "    .dataframe thead th {\n",
       "        text-align: right;\n",
       "    }\n",
       "</style>\n",
       "<table border=\"1\" class=\"dataframe\">\n",
       "  <thead>\n",
       "    <tr style=\"text-align: right;\">\n",
       "      <th></th>\n",
       "      <th>text</th>\n",
       "      <th>label</th>\n",
       "    </tr>\n",
       "  </thead>\n",
       "  <tbody>\n",
       "    <tr>\n",
       "      <th>0</th>\n",
       "      <td>rt :    negara demokrasi itu hukumnya hrs tega...</td>\n",
       "      <td>positif</td>\n",
       "    </tr>\n",
       "    <tr>\n",
       "      <th>1</th>\n",
       "      <td>harga2 pd naik gaji aparat negara gk naik2,yg...</td>\n",
       "      <td>negatif</td>\n",
       "    </tr>\n",
       "    <tr>\n",
       "      <th>2</th>\n",
       "      <td>xx : kalian coba mengusir yang mau membersihka...</td>\n",
       "      <td>negatif</td>\n",
       "    </tr>\n",
       "    <tr>\n",
       "      <th>3</th>\n",
       "      <td>haturnuhun bapak presiden  telah berkenan kun...</td>\n",
       "      <td>netral</td>\n",
       "    </tr>\n",
       "    <tr>\n",
       "      <th>4</th>\n",
       "      <td>bahkan bisa jadi titisannya</td>\n",
       "      <td>netral</td>\n",
       "    </tr>\n",
       "    <tr>\n",
       "      <th>...</th>\n",
       "      <td>...</td>\n",
       "      <td>...</td>\n",
       "    </tr>\n",
       "    <tr>\n",
       "      <th>1001</th>\n",
       "      <td>Memang hebat orang pilihan pak  ini, lulusan U...</td>\n",
       "      <td>positif</td>\n",
       "    </tr>\n",
       "    <tr>\n",
       "      <th>1002</th>\n",
       "      <td>Kunjungan Kehormatan Presiden  dan Ibu Iriana ...</td>\n",
       "      <td>positif</td>\n",
       "    </tr>\n",
       "    <tr>\n",
       "      <th>1003</th>\n",
       "      <td>Berbagai upaya dilakukan Indonesia untuk melak...</td>\n",
       "      <td>positif</td>\n",
       "    </tr>\n",
       "    <tr>\n",
       "      <th>1004</th>\n",
       "      <td>Sebagai tindak lanjut perintah Presiden  sekal...</td>\n",
       "      <td>positif</td>\n",
       "    </tr>\n",
       "    <tr>\n",
       "      <th>1005</th>\n",
       "      <td>Dengan memanfaat teknologi, jangan heran kalau...</td>\n",
       "      <td>positif</td>\n",
       "    </tr>\n",
       "  </tbody>\n",
       "</table>\n",
       "<p>1006 rows × 2 columns</p>\n",
       "</div>"
      ],
      "text/plain": [
       "                                                   text    label\n",
       "0     rt :    negara demokrasi itu hukumnya hrs tega...  positif\n",
       "1      harga2 pd naik gaji aparat negara gk naik2,yg...  negatif\n",
       "2     xx : kalian coba mengusir yang mau membersihka...  negatif\n",
       "3      haturnuhun bapak presiden  telah berkenan kun...   netral\n",
       "4                           bahkan bisa jadi titisannya   netral\n",
       "...                                                 ...      ...\n",
       "1001  Memang hebat orang pilihan pak  ini, lulusan U...  positif\n",
       "1002  Kunjungan Kehormatan Presiden  dan Ibu Iriana ...  positif\n",
       "1003  Berbagai upaya dilakukan Indonesia untuk melak...  positif\n",
       "1004  Sebagai tindak lanjut perintah Presiden  sekal...  positif\n",
       "1005  Dengan memanfaat teknologi, jangan heran kalau...  positif\n",
       "\n",
       "[1006 rows x 2 columns]"
      ]
     },
     "execution_count": 6,
     "metadata": {},
     "output_type": "execute_result"
    }
   ],
   "source": [
    "df1"
   ]
  },
  {
   "cell_type": "code",
   "execution_count": 7,
   "id": "5b43e4ce",
   "metadata": {},
   "outputs": [
    {
     "data": {
      "text/plain": [
       "negatif    374\n",
       "positif    374\n",
       "netral     256\n",
       "Name: label, dtype: int64"
      ]
     },
     "execution_count": 7,
     "metadata": {},
     "output_type": "execute_result"
    }
   ],
   "source": [
    "df1.label.value_counts()"
   ]
  },
  {
   "cell_type": "code",
   "execution_count": 8,
   "id": "0d098d1b",
   "metadata": {},
   "outputs": [
    {
     "data": {
      "text/plain": [
       "netral     5327\n",
       "negatif    2887\n",
       "positif    2592\n",
       "Name: label, dtype: int64"
      ]
     },
     "execution_count": 8,
     "metadata": {},
     "output_type": "execute_result"
    }
   ],
   "source": [
    "df2.label.value_counts()"
   ]
  },
  {
   "cell_type": "code",
   "execution_count": 9,
   "id": "95aca393",
   "metadata": {},
   "outputs": [],
   "source": [
    "df = pd.DataFrame()"
   ]
  },
  {
   "cell_type": "code",
   "execution_count": 10,
   "id": "c6a537a2",
   "metadata": {},
   "outputs": [],
   "source": [
    "df = df.append(df1)\n",
    "df = df.append(df2.loc[df2.label==\"positif\"][0:2500])\n",
    "df = df.append(df2.loc[df2.label==\"negatif\"][0:2500])\n",
    "df = df.append(df2.loc[df2.label==\"netral\"][0:2618])"
   ]
  },
  {
   "cell_type": "code",
   "execution_count": 11,
   "id": "058411b9",
   "metadata": {},
   "outputs": [
    {
     "data": {
      "text/plain": [
       "positif    2874\n",
       "netral     2874\n",
       "negatif    2874\n",
       "Name: label, dtype: int64"
      ]
     },
     "execution_count": 11,
     "metadata": {},
     "output_type": "execute_result"
    }
   ],
   "source": [
    "df.label.value_counts()"
   ]
  },
  {
   "cell_type": "code",
   "execution_count": 12,
   "id": "9a20c4c9",
   "metadata": {},
   "outputs": [],
   "source": [
    "from sklearn.feature_extraction.text import TfidfVectorizer\n",
    "from sklearn.model_selection import train_test_split"
   ]
  },
  {
   "cell_type": "code",
   "execution_count": 13,
   "id": "1acd2b3c",
   "metadata": {},
   "outputs": [],
   "source": [
    "X = df.text.astype(str)\n",
    "y = df.label.astype(str)"
   ]
  },
  {
   "cell_type": "code",
   "execution_count": 14,
   "id": "f7272e24",
   "metadata": {},
   "outputs": [],
   "source": [
    "X_train, X_test, y_train, y_test = train_test_split(\n",
    "...     X, y, test_size=0.2, random_state=42)"
   ]
  },
  {
   "cell_type": "code",
   "execution_count": 15,
   "id": "4b9fe233",
   "metadata": {},
   "outputs": [
    {
     "name": "stderr",
     "output_type": "stream",
     "text": [
      "C:\\Users\\Fernanda\\anaconda3\\lib\\site-packages\\sklearn\\feature_extraction\\text.py:388: UserWarning: Your stop_words may be inconsistent with your preprocessing. Tokenizing the stop words generated tokens ['baiknya', 'berkali', 'kali', 'kurangnya', 'mata', 'olah', 'sekurang', 'setidak', 'tama', 'tidaknya'] not in stop_words.\n",
      "  warnings.warn('Your stop_words may be inconsistent with '\n"
     ]
    },
    {
     "data": {
      "text/plain": [
       "TfidfVectorizer(stop_words=['ada', 'adalah', 'adanya', 'adapun', 'agak',\n",
       "                            'agaknya', 'agar', 'akan', 'akankah', 'akhir',\n",
       "                            'akhiri', 'akhirnya', 'aku', 'akulah', 'amat',\n",
       "                            'amatlah', 'anda', 'andalah', 'antar', 'antara',\n",
       "                            'antaranya', 'apa', 'apaan', 'apabila', 'apakah',\n",
       "                            'apalagi', 'apatah', 'artinya', 'asal', 'asalkan', ...])"
      ]
     },
     "execution_count": 15,
     "metadata": {},
     "output_type": "execute_result"
    }
   ],
   "source": [
    "tfidf = TfidfVectorizer(stop_words=stop[0])\n",
    "tfidf.fit(X_train)"
   ]
  },
  {
   "cell_type": "code",
   "execution_count": 16,
   "id": "fd8f9049",
   "metadata": {},
   "outputs": [],
   "source": [
    "from sklearn.naive_bayes import MultinomialNB\n",
    "from sklearn.linear_model import LogisticRegression\n",
    "from sklearn.svm import SVC, LinearSVC\n",
    "from sklearn.metrics import classification_report, plot_confusion_matrix\n",
    "\n",
    "def report(model):\n",
    "    pred = model.predict(X_test_tfidf)\n",
    "    print(classification_report(y_test, pred))\n",
    "    plot_confusion_matrix(model, X_test_tfidf, y_test)"
   ]
  },
  {
   "cell_type": "code",
   "execution_count": 17,
   "id": "c56c2850",
   "metadata": {},
   "outputs": [],
   "source": [
    "X_train_tfidf = tfidf.transform(X_train)\n",
    "X_test_tfidf = tfidf.transform(X_test)"
   ]
  },
  {
   "cell_type": "code",
   "execution_count": 18,
   "id": "886a9400",
   "metadata": {},
   "outputs": [
    {
     "name": "stderr",
     "output_type": "stream",
     "text": [
      "C:\\Users\\Fernanda\\anaconda3\\lib\\site-packages\\sklearn\\linear_model\\_logistic.py:763: ConvergenceWarning: lbfgs failed to converge (status=1):\n",
      "STOP: TOTAL NO. of ITERATIONS REACHED LIMIT.\n",
      "\n",
      "Increase the number of iterations (max_iter) or scale the data as shown in:\n",
      "    https://scikit-learn.org/stable/modules/preprocessing.html\n",
      "Please also refer to the documentation for alternative solver options:\n",
      "    https://scikit-learn.org/stable/modules/linear_model.html#logistic-regression\n",
      "  n_iter_i = _check_optimize_result(\n"
     ]
    }
   ],
   "source": [
    "nb = MultinomialNB()\n",
    "nb.fit(X_train_tfidf, y_train)\n",
    "\n",
    "log = LogisticRegression(multi_class='multinomial', random_state=1)\n",
    "log.fit(X_train_tfidf, y_train)\n",
    "\n",
    "svc = SVC(C= 12)\n",
    "svc.fit(X_train_tfidf, y_train)\n",
    "\n",
    "lin_svc = LinearSVC()\n",
    "lin_svc.fit(X_train_tfidf, y_train);"
   ]
  },
  {
   "cell_type": "code",
   "execution_count": 19,
   "id": "a2b9d799",
   "metadata": {},
   "outputs": [
    {
     "name": "stdout",
     "output_type": "stream",
     "text": [
      "              precision    recall  f1-score   support\n",
      "\n",
      "     negatif       0.55      0.56      0.56       548\n",
      "      netral       0.60      0.62      0.61       581\n",
      "     positif       0.63      0.61      0.62       596\n",
      "\n",
      "    accuracy                           0.60      1725\n",
      "   macro avg       0.60      0.60      0.60      1725\n",
      "weighted avg       0.60      0.60      0.60      1725\n",
      "\n",
      "None\n",
      "              precision    recall  f1-score   support\n",
      "\n",
      "     negatif       0.52      0.60      0.56       548\n",
      "      netral       0.60      0.58      0.59       581\n",
      "     positif       0.64      0.57      0.60       596\n",
      "\n",
      "    accuracy                           0.58      1725\n",
      "   macro avg       0.59      0.58      0.58      1725\n",
      "weighted avg       0.59      0.58      0.58      1725\n",
      "\n",
      "None\n",
      "              precision    recall  f1-score   support\n",
      "\n",
      "     negatif       0.54      0.57      0.55       548\n",
      "      netral       0.59      0.59      0.59       581\n",
      "     positif       0.62      0.59      0.60       596\n",
      "\n",
      "    accuracy                           0.58      1725\n",
      "   macro avg       0.58      0.58      0.58      1725\n",
      "weighted avg       0.58      0.58      0.58      1725\n",
      "\n",
      "None\n",
      "              precision    recall  f1-score   support\n",
      "\n",
      "     negatif       0.53      0.54      0.54       548\n",
      "      netral       0.59      0.59      0.59       581\n",
      "     positif       0.62      0.60      0.61       596\n",
      "\n",
      "    accuracy                           0.58      1725\n",
      "   macro avg       0.58      0.58      0.58      1725\n",
      "weighted avg       0.58      0.58      0.58      1725\n",
      "\n",
      "None\n"
     ]
    },
    {
     "data": {
      "image/png": "[encoded data removed]",
      "text/plain": [
       "<Figure size 432x288 with 2 Axes>"
      ]
     },
     "metadata": {
      "needs_background": "light"
     },
     "output_type": "display_data"
    },
    {
     "data": {
      "image/png": "[encoded data removed]",
      "text/plain": [
       "<Figure size 432x288 with 2 Axes>"
      ]
     },
     "metadata": {
      "needs_background": "light"
     },
     "output_type": "display_data"
    },
    {
     "data": {
      "image/png": "[encoded data removed]",
      "text/plain": [
       "<Figure size 432x288 with 2 Axes>"
      ]
     },
     "metadata": {
      "needs_background": "light"
     },
     "output_type": "display_data"
    },
    {
     "data": {
      "image/png": "[encoded data removed]",
      "text/plain": [
       "<Figure size 432x288 with 2 Axes>"
      ]
     },
     "metadata": {
      "needs_background": "light"
     },
     "output_type": "display_data"
    }
   ],
   "source": [
    "print(report(log))\n",
    "print(report(nb))\n",
    "print(report(svc))\n",
    "print(report(lin_svc))"
   ]
  },
  {
   "cell_type": "code",
   "execution_count": 20,
   "id": "d38cb79a",
   "metadata": {},
   "outputs": [
    {
     "name": "stderr",
     "output_type": "stream",
     "text": [
      "C:\\Users\\Fernanda\\anaconda3\\lib\\site-packages\\sklearn\\linear_model\\_logistic.py:763: ConvergenceWarning: lbfgs failed to converge (status=1):\n",
      "STOP: TOTAL NO. of ITERATIONS REACHED LIMIT.\n",
      "\n",
      "Increase the number of iterations (max_iter) or scale the data as shown in:\n",
      "    https://scikit-learn.org/stable/modules/preprocessing.html\n",
      "Please also refer to the documentation for alternative solver options:\n",
      "    https://scikit-learn.org/stable/modules/linear_model.html#logistic-regression\n",
      "  n_iter_i = _check_optimize_result(\n"
     ]
    }
   ],
   "source": [
    "from sklearn.pipeline import Pipeline\n",
    "\n",
    "pipe_log = Pipeline([('tfidf', TfidfVectorizer()), ('log', LogisticRegression())])\n",
    "pipe_log.fit(X,y);\n",
    "\n",
    "pipe_svc = Pipeline([('tfidf', TfidfVectorizer()), ('svc', SVC())])\n",
    "pipe_svc.fit(X,y);"
   ]
  },
  {
   "cell_type": "code",
   "execution_count": 21,
   "id": "c51c01bd",
   "metadata": {},
   "outputs": [
    {
     "data": {
      "text/plain": [
       "array(['positif'], dtype=object)"
      ]
     },
     "execution_count": 21,
     "metadata": {},
     "output_type": "execute_result"
    }
   ],
   "source": [
    "pipe_log.predict([\"Wkwkwk iya tp kalau mau ngebegoin rakyat tuh yang agak canggih dong bahasanya\"])"
   ]
  },
  {
   "cell_type": "code",
   "execution_count": 22,
   "id": "b24caadb",
   "metadata": {},
   "outputs": [
    {
     "data": {
      "text/plain": [
       "array(['positif'], dtype=object)"
      ]
     },
     "execution_count": 22,
     "metadata": {},
     "output_type": "execute_result"
    }
   ],
   "source": [
    "pipe_svc.predict([\"Wkwkwk iya tp kalau mau ngebegoin rakyat tuh yang agak canggih dong bahasanya\"])"
   ]
  },
  {
   "cell_type": "markdown",
   "id": "7a7909d9",
   "metadata": {},
   "source": [
    "Voting Classifier"
   ]
  },
  {
   "cell_type": "code",
   "execution_count": 23,
   "id": "ad6839b2",
   "metadata": {},
   "outputs": [],
   "source": [
    "from sklearn.ensemble import VotingClassifier"
   ]
  },
  {
   "cell_type": "code",
   "execution_count": 38,
   "id": "8b61744f",
   "metadata": {},
   "outputs": [
    {
     "name": "stderr",
     "output_type": "stream",
     "text": [
      "C:\\Users\\Fernanda\\anaconda3\\lib\\site-packages\\sklearn\\linear_model\\_logistic.py:763: ConvergenceWarning: lbfgs failed to converge (status=1):\n",
      "STOP: TOTAL NO. of ITERATIONS REACHED LIMIT.\n",
      "\n",
      "Increase the number of iterations (max_iter) or scale the data as shown in:\n",
      "    https://scikit-learn.org/stable/modules/preprocessing.html\n",
      "Please also refer to the documentation for alternative solver options:\n",
      "    https://scikit-learn.org/stable/modules/linear_model.html#logistic-regression\n",
      "  n_iter_i = _check_optimize_result(\n"
     ]
    },
    {
     "name": "stdout",
     "output_type": "stream",
     "text": [
      "              precision    recall  f1-score   support\n",
      "\n",
      "     negatif       0.55      0.58      0.56       548\n",
      "      netral       0.60      0.62      0.61       581\n",
      "     positif       0.65      0.60      0.62       596\n",
      "\n",
      "    accuracy                           0.60      1725\n",
      "   macro avg       0.60      0.60      0.60      1725\n",
      "weighted avg       0.60      0.60      0.60      1725\n",
      "\n"
     ]
    },
    {
     "data": {
      "image/png": "[encoded data removed]",
      "text/plain": [
       "<Figure size 432x288 with 2 Axes>"
      ]
     },
     "metadata": {
      "needs_background": "light"
     },
     "output_type": "display_data"
    }
   ],
   "source": [
    "vote1 = VotingClassifier(estimators=[\n",
    "...         ('log', log), ('gnb', nb)], voting='soft')\n",
    "\n",
    "vote_fit1 = vote1.fit(X_train_tfidf, y_train)\n",
    "\n",
    "report(vote_fit1)"
   ]
  },
  {
   "cell_type": "code",
   "execution_count": 39,
   "id": "1709e129",
   "metadata": {},
   "outputs": [
    {
     "name": "stderr",
     "output_type": "stream",
     "text": [
      "C:\\Users\\Fernanda\\anaconda3\\lib\\site-packages\\sklearn\\linear_model\\_logistic.py:763: ConvergenceWarning: lbfgs failed to converge (status=1):\n",
      "STOP: TOTAL NO. of ITERATIONS REACHED LIMIT.\n",
      "\n",
      "Increase the number of iterations (max_iter) or scale the data as shown in:\n",
      "    https://scikit-learn.org/stable/modules/preprocessing.html\n",
      "Please also refer to the documentation for alternative solver options:\n",
      "    https://scikit-learn.org/stable/modules/linear_model.html#logistic-regression\n",
      "  n_iter_i = _check_optimize_result(\n"
     ]
    },
    {
     "name": "stdout",
     "output_type": "stream",
     "text": [
      "              precision    recall  f1-score   support\n",
      "\n",
      "     negatif       0.51      0.65      0.57       548\n",
      "      netral       0.62      0.58      0.60       581\n",
      "     positif       0.66      0.53      0.59       596\n",
      "\n",
      "    accuracy                           0.58      1725\n",
      "   macro avg       0.59      0.59      0.59      1725\n",
      "weighted avg       0.60      0.58      0.59      1725\n",
      "\n"
     ]
    },
    {
     "data": {
      "image/png": "[encoded data removed]",
      "text/plain": [
       "<Figure size 432x288 with 2 Axes>"
      ]
     },
     "metadata": {
      "needs_background": "light"
     },
     "output_type": "display_data"
    }
   ],
   "source": [
    "vote2 = VotingClassifier(estimators=[\n",
    "...         ('log', log), ('gnb', nb)], voting='hard')\n",
    "\n",
    "vote_fit2 = vote2.fit(X_train_tfidf, y_train)\n",
    "\n",
    "report(vote_fit2)"
   ]
  },
  {
   "cell_type": "markdown",
   "id": "ef18eec6",
   "metadata": {},
   "source": [
    "The accuracy does not necessarily go up?"
   ]
  },
  {
   "cell_type": "markdown",
   "id": "cab6e66c",
   "metadata": {},
   "source": [
    "Using voting method 'soft' gives higher value compared to 'hard'?"
   ]
  },
  {
   "cell_type": "code",
   "execution_count": null,
   "id": "e625c9b7",
   "metadata": {},
   "outputs": [],
   "source": []
  },
  {
   "cell_type": "code",
   "execution_count": null,
   "id": "6f143925",
   "metadata": {},
   "outputs": [],
   "source": []
  }
 ],
 "metadata": {
  "kernelspec": {
   "display_name": "Python 3",
   "language": "python",
   "name": "python3"
  },
  "language_info": {
   "codemirror_mode": {
    "name": "ipython",
    "version": 3
   },
   "file_extension": ".py",
   "mimetype": "text/x-python",
   "name": "python",
   "nbconvert_exporter": "python",
   "pygments_lexer": "ipython3",
   "version": "3.8.8"
  }
 },
 "nbformat": 4,
 "nbformat_minor": 5
}
